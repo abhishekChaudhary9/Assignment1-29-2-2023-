{
 "cells": [
  {
   "cell_type": "markdown",
   "id": "ccd83998-6faa-4aee-8037-13face40deed",
   "metadata": {},
   "source": [
    "ABHISHEK CHAUDHARY"
   ]
  },
  {
   "cell_type": "markdown",
   "id": "ea571dba-6db2-4f6d-a80a-84a0c9168404",
   "metadata": {},
   "source": [
    "1.\tWho developed Python Programming Language?\n",
    "Guido Van Rossum\n"
   ]
  },
  {
   "cell_type": "markdown",
   "id": "2bcadd64-6866-43d5-85ed-70b5f282169b",
   "metadata": {},
   "source": [
    "2.\tWhich type of Programming does Python support?\n",
    "    OOP, interpreted, high level language\n"
   ]
  },
  {
   "cell_type": "raw",
   "id": "4a1a68f9-f3da-4b2f-925a-92129867ee63",
   "metadata": {},
   "source": [
    "3.\tIs Python case sensitive when dealing with identifiers?\n",
    "Yes \n",
    "\n",
    "4.\tWhat is the correct extension of the Python file?\n",
    "Filename.py\n",
    "\n",
    "5.\tIs Python code compiled or interpreted?\n",
    "Interpreted\n",
    "\n",
    "6.\tName a few blocks of code used to define in Python language?\n",
    "If block\n",
    "If else block\n",
    "While block\n",
    "For block\n",
    "Etc.\n",
    "\n",
    "7.\tState a character used to give single-line comments in Python?\n",
    "     #\n"
   ]
  },
  {
   "cell_type": "markdown",
   "id": "785e9d2e-99b8-4683-90ed-af89f660a38a",
   "metadata": {},
   "source": [
    "8.\tMention functions which can help us to find the version of Python that we are currently working on?"
   ]
  },
  {
   "cell_type": "code",
   "execution_count": 2,
   "id": "383b69ec-0e7b-4e01-ba89-adc2207a4f77",
   "metadata": {},
   "outputs": [
    {
     "data": {
      "text/plain": [
       "'3.10.6'"
      ]
     },
     "execution_count": 2,
     "metadata": {},
     "output_type": "execute_result"
    }
   ],
   "source": [
    "import platform\n",
    "platform.python_version()"
   ]
  },
  {
   "cell_type": "raw",
   "id": "4ae4fe29-459d-4666-a300-39046e70bed7",
   "metadata": {},
   "source": [
    "9.\tPython supports the creation of anonymous functions at runtime using a construct called ____________?\n",
    "Lambda expression\n",
    "10.\tWhat does pip stand for Python?\n",
    "Python interpreter program\n",
    "\n",
    "11.\tMention a few built-in funtions in Python?\n",
    "type()\n",
    "len()\n",
    "print()\n",
    "sort()\n",
    "input()\n"
   ]
  },
  {
   "cell_type": "raw",
   "id": "37a85829-5cf0-4e53-809a-dc3d7304127e",
   "metadata": {},
   "source": [
    "12.\tWhat is the maximum possible length of an identifier in Python?\n",
    "Unlimited \n",
    "\n",
    "13.\tWhat are the benefits of using Python?\n",
    "Readability\n",
    "Reusability\n",
    "Exception handling\n",
    "Object orientation\n",
    "Fast optimised libraries\n",
    "\n",
    "14.\tHow is memory managed in Python?\n",
    "Garbage collection program which is invoked automatically.\n",
    "\n",
    "15.\tHow to install Python on Windows and set path variables?\n",
    "Go to python.org and follow instructions for windows\n",
    "\n",
    "16.\tIs indentation required in Python?\n",
    "         Yes \n",
    " \n"
   ]
  },
  {
   "cell_type": "code",
   "execution_count": null,
   "id": "14d4afe6-638d-4e53-ac27-322100902ec3",
   "metadata": {},
   "outputs": [],
   "source": []
  }
 ],
 "metadata": {
  "kernelspec": {
   "display_name": "Python 3 (ipykernel)",
   "language": "python",
   "name": "python3"
  },
  "language_info": {
   "codemirror_mode": {
    "name": "ipython",
    "version": 3
   },
   "file_extension": ".py",
   "mimetype": "text/x-python",
   "name": "python",
   "nbconvert_exporter": "python",
   "pygments_lexer": "ipython3",
   "version": "3.10.6"
  }
 },
 "nbformat": 4,
 "nbformat_minor": 5
}
